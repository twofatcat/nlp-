{
 "cells": [
  {
   "cell_type": "markdown",
   "metadata": {},
   "source": [
    "## Assignment 1 - NBC"
   ]
  },
  {
   "cell_type": "markdown",
   "metadata": {},
   "source": [
    "## preprocessing: packages"
   ]
  },
  {
   "cell_type": "code",
   "execution_count": 216,
   "metadata": {},
   "outputs": [],
   "source": [
    "from nltk.corpus import stopwords\n",
    "import pandas as pd\n",
    "import re\n",
    "from bs4 import BeautifulSoup\n",
    "from textblob import TextBlob # for correcting spelling mistakes\n",
    "from nltk.stem import PorterStemmer\n",
    "import unicodedata\n",
    "import spacy\n",
    "import math\n",
    "from random import choice\n",
    "from sklearn.feature_extraction.text import TfidfTransformer\n",
    "from sklearn.feature_extraction.text import CountVectorizer\n",
    "import matplotlib.pyplot as plt\n",
    "%matplotlib inline"
   ]
  },
  {
   "cell_type": "markdown",
   "metadata": {},
   "source": [
    "## preprocessing: read data"
   ]
  },
  {
   "cell_type": "code",
   "execution_count": 217,
   "metadata": {},
   "outputs": [
    {
     "data": {
      "text/html": [
       "<div>\n",
       "<style scoped>\n",
       "    .dataframe tbody tr th:only-of-type {\n",
       "        vertical-align: middle;\n",
       "    }\n",
       "\n",
       "    .dataframe tbody tr th {\n",
       "        vertical-align: top;\n",
       "    }\n",
       "\n",
       "    .dataframe thead th {\n",
       "        text-align: right;\n",
       "    }\n",
       "</style>\n",
       "<table border=\"1\" class=\"dataframe\">\n",
       "  <thead>\n",
       "    <tr style=\"text-align: right;\">\n",
       "      <th></th>\n",
       "      <th>type</th>\n",
       "      <th>review</th>\n",
       "      <th>label</th>\n",
       "      <th>file</th>\n",
       "    </tr>\n",
       "  </thead>\n",
       "  <tbody>\n",
       "    <tr>\n",
       "      <th>0</th>\n",
       "      <td>test</td>\n",
       "      <td>Once again Mr. Costner has dragged out a movie...</td>\n",
       "      <td>neg</td>\n",
       "      <td>0_2.txt</td>\n",
       "    </tr>\n",
       "    <tr>\n",
       "      <th>1</th>\n",
       "      <td>test</td>\n",
       "      <td>This is an example of why the majority of acti...</td>\n",
       "      <td>neg</td>\n",
       "      <td>10000_4.txt</td>\n",
       "    </tr>\n",
       "    <tr>\n",
       "      <th>2</th>\n",
       "      <td>test</td>\n",
       "      <td>First of all I hate those moronic rappers, who...</td>\n",
       "      <td>neg</td>\n",
       "      <td>10001_1.txt</td>\n",
       "    </tr>\n",
       "    <tr>\n",
       "      <th>3</th>\n",
       "      <td>test</td>\n",
       "      <td>Not even the Beatles could write songs everyon...</td>\n",
       "      <td>neg</td>\n",
       "      <td>10002_3.txt</td>\n",
       "    </tr>\n",
       "    <tr>\n",
       "      <th>4</th>\n",
       "      <td>test</td>\n",
       "      <td>Brass pictures (movies is not a fitting word f...</td>\n",
       "      <td>neg</td>\n",
       "      <td>10003_3.txt</td>\n",
       "    </tr>\n",
       "  </tbody>\n",
       "</table>\n",
       "</div>"
      ],
      "text/plain": [
       "   type                                             review label         file\n",
       "0  test  Once again Mr. Costner has dragged out a movie...   neg      0_2.txt\n",
       "1  test  This is an example of why the majority of acti...   neg  10000_4.txt\n",
       "2  test  First of all I hate those moronic rappers, who...   neg  10001_1.txt\n",
       "3  test  Not even the Beatles could write songs everyon...   neg  10002_3.txt\n",
       "4  test  Brass pictures (movies is not a fitting word f...   neg  10003_3.txt"
      ]
     },
     "execution_count": 217,
     "metadata": {},
     "output_type": "execute_result"
    }
   ],
   "source": [
    "url = '/Users/cao.yumin/Desktop/UA第二学期/NLP/imdb_master.csv'\n",
    "\n",
    "data = pd.read_csv(url,encoding = 'ISO-8859-1',index_col=0)\n",
    "data.head()"
   ]
  },
  {
   "cell_type": "code",
   "execution_count": 218,
   "metadata": {},
   "outputs": [
    {
     "data": {
      "text/plain": [
       "type      0\n",
       "review    0\n",
       "label     0\n",
       "file      0\n",
       "dtype: int64"
      ]
     },
     "execution_count": 218,
     "metadata": {},
     "output_type": "execute_result"
    }
   ],
   "source": [
    "data.isnull().sum()"
   ]
  },
  {
   "cell_type": "markdown",
   "metadata": {},
   "source": [
    "## preprocessing: stopwords"
   ]
  },
  {
   "cell_type": "code",
   "execution_count": 219,
   "metadata": {},
   "outputs": [
    {
     "name": "stdout",
     "output_type": "stream",
     "text": [
      "['i', 'me', 'my', 'myself', 'we', 'our', 'ours', 'ourselves', 'you', \"you're\", \"you've\", \"you'll\", \"you'd\", 'your', 'yours', 'yourself', 'yourselves', 'he', 'him', 'his']\n"
     ]
    }
   ],
   "source": [
    "stop_words = stopwords.words('english')\n",
    "print(stop_words[:20])"
   ]
  },
  {
   "cell_type": "code",
   "execution_count": 220,
   "metadata": {},
   "outputs": [],
   "source": [
    "useless_words = ['film','films','movie','movies','actor','actors','actress','actresses','scene','scenes']\n",
    "stop_words.extend(useless_words)"
   ]
  },
  {
   "cell_type": "code",
   "execution_count": 221,
   "metadata": {},
   "outputs": [],
   "source": [
    "stop_words.remove('not')\n",
    "stop_words.remove('no')"
   ]
  },
  {
   "cell_type": "code",
   "execution_count": 222,
   "metadata": {},
   "outputs": [
    {
     "data": {
      "text/plain": [
       "False"
      ]
     },
     "execution_count": 222,
     "metadata": {},
     "output_type": "execute_result"
    }
   ],
   "source": [
    "'not' in stop_words"
   ]
  },
  {
   "cell_type": "code",
   "execution_count": 223,
   "metadata": {},
   "outputs": [
    {
     "data": {
      "text/plain": [
       "False"
      ]
     },
     "execution_count": 223,
     "metadata": {},
     "output_type": "execute_result"
    }
   ],
   "source": [
    "'no' in stop_words"
   ]
  },
  {
   "cell_type": "code",
   "execution_count": 224,
   "metadata": {},
   "outputs": [],
   "source": [
    "drop_unsup = data[data['label'] != 'unsup']"
   ]
  },
  {
   "cell_type": "code",
   "execution_count": 225,
   "metadata": {},
   "outputs": [
    {
     "data": {
      "text/plain": [
       "type      50000\n",
       "review    50000\n",
       "label     50000\n",
       "file      50000\n",
       "dtype: int64"
      ]
     },
     "execution_count": 225,
     "metadata": {},
     "output_type": "execute_result"
    }
   ],
   "source": [
    "drop_unsup.count()"
   ]
  },
  {
   "cell_type": "code",
   "execution_count": 226,
   "metadata": {},
   "outputs": [
    {
     "data": {
      "text/html": [
       "<div>\n",
       "<style scoped>\n",
       "    .dataframe tbody tr th:only-of-type {\n",
       "        vertical-align: middle;\n",
       "    }\n",
       "\n",
       "    .dataframe tbody tr th {\n",
       "        vertical-align: top;\n",
       "    }\n",
       "\n",
       "    .dataframe thead th {\n",
       "        text-align: right;\n",
       "    }\n",
       "</style>\n",
       "<table border=\"1\" class=\"dataframe\">\n",
       "  <thead>\n",
       "    <tr style=\"text-align: right;\">\n",
       "      <th></th>\n",
       "      <th>review</th>\n",
       "      <th>label</th>\n",
       "      <th>file</th>\n",
       "    </tr>\n",
       "    <tr>\n",
       "      <th>type</th>\n",
       "      <th></th>\n",
       "      <th></th>\n",
       "      <th></th>\n",
       "    </tr>\n",
       "  </thead>\n",
       "  <tbody>\n",
       "    <tr>\n",
       "      <th>test</th>\n",
       "      <td>25000</td>\n",
       "      <td>25000</td>\n",
       "      <td>25000</td>\n",
       "    </tr>\n",
       "    <tr>\n",
       "      <th>train</th>\n",
       "      <td>25000</td>\n",
       "      <td>25000</td>\n",
       "      <td>25000</td>\n",
       "    </tr>\n",
       "  </tbody>\n",
       "</table>\n",
       "</div>"
      ],
      "text/plain": [
       "       review  label   file\n",
       "type                       \n",
       "test    25000  25000  25000\n",
       "train   25000  25000  25000"
      ]
     },
     "execution_count": 226,
     "metadata": {},
     "output_type": "execute_result"
    }
   ],
   "source": [
    "drop_unsup.groupby(['type']).count()"
   ]
  },
  {
   "cell_type": "code",
   "execution_count": 227,
   "metadata": {},
   "outputs": [
    {
     "data": {
      "text/plain": [
       "0    Once again Mr. Costner has dragged out a movie...\n",
       "1    This is an example of why the majority of acti...\n",
       "2    First of all I hate those moronic rappers, who...\n",
       "3    Not even the Beatles could write songs everyon...\n",
       "4    Brass pictures (movies is not a fitting word f...\n",
       "Name: review, dtype: object"
      ]
     },
     "execution_count": 227,
     "metadata": {},
     "output_type": "execute_result"
    }
   ],
   "source": [
    "review = drop_unsup['review']\n",
    "review.head()"
   ]
  },
  {
   "cell_type": "markdown",
   "metadata": {},
   "source": [
    "## preprocessing: train_test_split"
   ]
  },
  {
   "cell_type": "code",
   "execution_count": 228,
   "metadata": {},
   "outputs": [],
   "source": [
    "def train_test_split(df):\n",
    "    train = df[df['type'] == 'train']\n",
    "    test = df[df['type'] == 'test']\n",
    "    review_train = train['review']\n",
    "    label_train = train['label']\n",
    "    review_test = test['review']\n",
    "    label_test = test['label']\n",
    "    return review_train, label_train, review_test, label_test"
   ]
  },
  {
   "cell_type": "code",
   "execution_count": 229,
   "metadata": {},
   "outputs": [],
   "source": [
    "x_train, y_train, x_test, y_test = train_test_split(drop_unsup)"
   ]
  },
  {
   "cell_type": "markdown",
   "metadata": {},
   "source": [
    "## preprocessing: clean data"
   ]
  },
  {
   "cell_type": "markdown",
   "metadata": {},
   "source": [
    "### Lower"
   ]
  },
  {
   "cell_type": "code",
   "execution_count": 230,
   "metadata": {},
   "outputs": [],
   "source": [
    "def lower(df):\n",
    "    new_df = df.apply(lambda x: \" \".join(x.lower() for x in x.split()))\n",
    "    return new_df"
   ]
  },
  {
   "cell_type": "code",
   "execution_count": 231,
   "metadata": {},
   "outputs": [
    {
     "data": {
      "text/plain": [
       "25000    story of a man who has unnatural feelings for ...\n",
       "25001    airport '77 starts as a brand new luxury 747 p...\n",
       "25002    this film lacked something i couldn't put my f...\n",
       "25003    sorry everyone,,, i know this is supposed to b...\n",
       "25004    when i was little my parents took me along to ...\n",
       "Name: review, dtype: object"
      ]
     },
     "execution_count": 231,
     "metadata": {},
     "output_type": "execute_result"
    }
   ],
   "source": [
    "new_x_train = lower(x_train)\n",
    "new_x_test = lower(x_test)\n",
    "new_x_train.head()"
   ]
  },
  {
   "cell_type": "markdown",
   "metadata": {},
   "source": [
    "### HTML"
   ]
  },
  {
   "cell_type": "code",
   "execution_count": 232,
   "metadata": {},
   "outputs": [],
   "source": [
    "def remove_html(df):\n",
    "    new_df = df.apply(lambda x: BeautifulSoup(x, 'lxml'))\n",
    "    new_df = new_df.apply(lambda x: x.text)\n",
    "    return new_df"
   ]
  },
  {
   "cell_type": "code",
   "execution_count": 233,
   "metadata": {},
   "outputs": [],
   "source": [
    "new_x_train = remove_html(new_x_train)\n",
    "new_x_test = remove_html(new_x_test)"
   ]
  },
  {
   "cell_type": "markdown",
   "metadata": {},
   "source": [
    "### URL"
   ]
  },
  {
   "cell_type": "code",
   "execution_count": 234,
   "metadata": {},
   "outputs": [],
   "source": [
    "def remove_url(df):\n",
    "    new_df = df.apply(lambda x: re.sub(r\"http\\S+\", \"\", x))\n",
    "    return new_df"
   ]
  },
  {
   "cell_type": "code",
   "execution_count": 235,
   "metadata": {},
   "outputs": [],
   "source": [
    "new_x_train = remove_url(new_x_train)\n",
    "new_x_test = remove_url(new_x_test)"
   ]
  },
  {
   "cell_type": "markdown",
   "metadata": {},
   "source": [
    "### accented chars"
   ]
  },
  {
   "cell_type": "code",
   "execution_count": 236,
   "metadata": {},
   "outputs": [],
   "source": [
    "def remove_accented_chars(df):\n",
    "    data_list = []\n",
    "    for text in df:\n",
    "#         print(text)\n",
    "        new_text = unicodedata.normalize('NFKD', text).encode('ISO-8859-1', 'ignore').decode('utf-8', 'ignore')\n",
    "        data_list.append(new_text)\n",
    "    new_df = pd.Series(data_list)\n",
    "    return new_df"
   ]
  },
  {
   "cell_type": "code",
   "execution_count": 237,
   "metadata": {},
   "outputs": [],
   "source": [
    "new_x_train = remove_accented_chars(new_x_train)\n",
    "new_x_test = remove_accented_chars(new_x_test)"
   ]
  },
  {
   "cell_type": "markdown",
   "metadata": {},
   "source": [
    "### stopwords"
   ]
  },
  {
   "cell_type": "code",
   "execution_count": 238,
   "metadata": {},
   "outputs": [],
   "source": [
    "def remove_stopwords(df):\n",
    "    new_df = df.apply(lambda x: \" \".join(m for m in x.split() if m not in stop_words))\n",
    "    return new_df"
   ]
  },
  {
   "cell_type": "code",
   "execution_count": 239,
   "metadata": {},
   "outputs": [],
   "source": [
    "new_x_train = remove_stopwords(new_x_train)\n",
    "new_x_test = remove_stopwords(new_x_test)"
   ]
  },
  {
   "cell_type": "markdown",
   "metadata": {},
   "source": [
    "### extra whitespace"
   ]
  },
  {
   "cell_type": "code",
   "execution_count": 240,
   "metadata": {},
   "outputs": [],
   "source": [
    "def remove_extra_whitespace_tabs(df):\n",
    "    pattern = r'^\\s*|\\s\\s*'\n",
    "    data_list = []\n",
    "    for text in df:\n",
    "        new_text = re.sub(pattern, ' ', text).strip()\n",
    "        data_list.append(new_text)\n",
    "    new_df = pd.Series(data_list)\n",
    "    return new_df"
   ]
  },
  {
   "cell_type": "code",
   "execution_count": 241,
   "metadata": {},
   "outputs": [],
   "source": [
    "new_x_train = remove_extra_whitespace_tabs(new_x_train)\n",
    "new_x_test = remove_extra_whitespace_tabs(new_x_test)"
   ]
  },
  {
   "cell_type": "markdown",
   "metadata": {},
   "source": [
    "### punctuation remove \"_\""
   ]
  },
  {
   "cell_type": "code",
   "execution_count": 242,
   "metadata": {},
   "outputs": [],
   "source": [
    "# %load ./appos.py\n",
    "appos = {\n",
    "\"aren't\" : \"are not\",\"are'nt\" : \"are not\",\n",
    "\"can't\" : \"can not\",\"ca'nt\" : \"can not\",\n",
    "\"couldn't\" : \"could not\",\"could'nt\" : \"could not\",\n",
    "\"didn't\" : \"did not\", \"did'nt\" : \"did not\",\n",
    "\"doesn't\" : \"does not\",\"does'nt\" : \"does not\",\n",
    "\"don't\" : \"do not\",\"do'nt\" : \"do not\",\n",
    "\"hadn't\" : \"had not\",\"had'nt\" : \"had not\",\n",
    "\"hasn't\" : \"has not\",\"has'nt\" : \"has not\",\n",
    "\"haven't\" : \"have not\",\"have'nt\" : \"have not\",\n",
    "\"he'd\" : \"he would\",\n",
    "\"he'll\" : \"he will\",\n",
    "\"he's\" : \"he is\",\n",
    "\"i'd\" : \"I would\",\n",
    "\"i'd\" : \"I had\",\n",
    "\"i'll\" : \"I will\",\n",
    "\"i'm\" : \"I am\",\n",
    "\"isn't\" : \"is not\",\n",
    "\"it's\" : \"it is\",\n",
    "\"it'll\":\"it will\",\n",
    "\"i've\" : \"I have\",\n",
    "\"let's\" : \"let us\",\n",
    "\"mightn't\" : \"might not\",\"might'nt\" : \"might not\",\n",
    "\"mustn't\" : \"must not\",\"must'nt\" : \"must not\",\n",
    "\"shan't\" : \"shall not\",\"sha'nt\" : \"shall not\",\n",
    "\"she'd\" : \"she would\",\n",
    "\"she'll\" : \"she will\",\n",
    "\"she's\" : \"she is\",\n",
    "\"shouldn't\" : \"should not\",\"should'nt\" : \"should not\",\n",
    "\"that's\" : \"that is\",\n",
    "\"there's\" : \"there is\",\n",
    "\"they'd\" : \"they would\",\n",
    "\"they'll\" : \"they will\",\n",
    "\"they're\" : \"they are\",\n",
    "\"they've\" : \"they have\",\n",
    "\"we'd\" : \"we would\",\n",
    "\"we're\" : \"we are\",\n",
    "\"weren't\" : \"were not\",\"were'nt\" : \"were not\",\n",
    "\"we've\" : \"we have\",\n",
    "\"what'll\" : \"what will\",\n",
    "\"what're\" : \"what are\",\n",
    "\"what's\" : \"what is\",\n",
    "\"what've\" : \"what have\",\n",
    "\"where's\" : \"where is\",\n",
    "\"who'd\" : \"who would\",\n",
    "\"who'll\" : \"who will\",\n",
    "\"who're\" : \"who are\",\n",
    "\"who's\" : \"who is\",\n",
    "\"who've\" : \"who have\",\n",
    "\"won't\" : \"will not\",\n",
    "\"wouldn't\" : \"would not\",\n",
    "\"you'd\" : \"you would\",\n",
    "\"you'll\" : \"you will\",\n",
    "\"you're\" : \"you are\",\n",
    "\"you've\" : \"you have\",\n",
    "\"'re\": \" are\",\n",
    "\"wasn't\": \"was not\",\"was'nt\": \"was not\",\n",
    "\"we'll\":\" will\",\n",
    "\"didn't\": \"did not\",\"did'nt\": \"did not\"\n",
    "}"
   ]
  },
  {
   "cell_type": "code",
   "execution_count": 243,
   "metadata": {},
   "outputs": [],
   "source": [
    "def punctuation1(df):\n",
    "    pun_data = df.str.replace('[_]','')\n",
    "    return pun_data"
   ]
  },
  {
   "cell_type": "code",
   "execution_count": 244,
   "metadata": {},
   "outputs": [],
   "source": [
    "new_x_train = punctuation1(new_x_train)\n",
    "new_x_test = punctuation1(new_x_test)"
   ]
  },
  {
   "cell_type": "markdown",
   "metadata": {},
   "source": [
    "### negation"
   ]
  },
  {
   "cell_type": "code",
   "execution_count": 245,
   "metadata": {},
   "outputs": [],
   "source": [
    "def negation(df):  # 1st step: change nega_words structure, 2ed step: add NOT\n",
    "    data_list = []\n",
    "    for text in df:\n",
    "        new_text = \" \".join(appos[word] if word in appos else word for word in text.split())\n",
    "        transformed = re.sub(r'\\b(?:not|never|no)\\b[\\w\\s]+[^\\w\\s]', \n",
    "                             lambda match: re.sub(r'(\\s+)(\\w+)', r'\\1NOT_\\2', match.group(0)), \n",
    "                             new_text,\n",
    "                             flags=re.IGNORECASE)\n",
    "        data_list.append(transformed)\n",
    "    new_df = pd.Series(data_list)\n",
    "    return new_df"
   ]
  },
  {
   "cell_type": "code",
   "execution_count": 246,
   "metadata": {},
   "outputs": [],
   "source": [
    "new_x_train = negation(new_x_train)\n",
    "new_x_test = negation(new_x_test)"
   ]
  },
  {
   "cell_type": "markdown",
   "metadata": {},
   "source": [
    "### punctuation"
   ]
  },
  {
   "cell_type": "code",
   "execution_count": 247,
   "metadata": {},
   "outputs": [],
   "source": [
    "def punctuation(df):\n",
    "    pun_data = df.str.replace('[^\\w\\s_]','')\n",
    "    return pun_data"
   ]
  },
  {
   "cell_type": "code",
   "execution_count": 248,
   "metadata": {},
   "outputs": [],
   "source": [
    "new_x_train = punctuation(new_x_train)\n",
    "new_x_test = punctuation(new_x_test)"
   ]
  },
  {
   "cell_type": "markdown",
   "metadata": {},
   "source": [
    "## Stem and Lemmatization"
   ]
  },
  {
   "cell_type": "code",
   "execution_count": 249,
   "metadata": {},
   "outputs": [],
   "source": [
    "ps = PorterStemmer()\n",
    "def stemming(df):\n",
    "    new_df = df.apply(lambda x: \" \".join(ps.stem(word) for word in x.split()))\n",
    "    return new_df"
   ]
  },
  {
   "cell_type": "code",
   "execution_count": 250,
   "metadata": {},
   "outputs": [],
   "source": [
    "stem_x_train = stemming(new_x_train)\n",
    "stem_x_test = stemming(new_x_test)"
   ]
  },
  {
   "cell_type": "code",
   "execution_count": 251,
   "metadata": {},
   "outputs": [],
   "source": [
    "nlp = spacy.load('en_core_web_sm', disable=['parser', 'ner'])\n",
    "def space(df):\n",
    "    new_df = df.apply(lambda x: \" \".join([token.lemma_ for token in nlp(x)]))\n",
    "    return new_df"
   ]
  },
  {
   "cell_type": "code",
   "execution_count": 252,
   "metadata": {
    "scrolled": true
   },
   "outputs": [],
   "source": [
    "lemma_x_train = space(new_x_train)\n",
    "lemma_x_test = space(new_x_test)"
   ]
  },
  {
   "cell_type": "markdown",
   "metadata": {},
   "source": [
    "## Numbers"
   ]
  },
  {
   "cell_type": "code",
   "execution_count": 253,
   "metadata": {},
   "outputs": [],
   "source": [
    "def remove_numbers(df):\n",
    "    pattern = r'[^a-zA-z.,!?/:;\\\"\\'\\s]'\n",
    "    pattern2 = r'^\\s*|\\s\\s*'\n",
    "    data_list = []\n",
    "    for text in df:\n",
    "        new_text = re.sub(pattern, '', text).strip()\n",
    "#         print(new_text)\n",
    "        new_text = re.sub(pattern2, ' ', new_text).strip()\n",
    "        data_list.append(new_text)\n",
    "    new_df = pd.Series(data_list)\n",
    "    return new_df"
   ]
  },
  {
   "cell_type": "code",
   "execution_count": 254,
   "metadata": {},
   "outputs": [],
   "source": [
    "stem_x_train = remove_numbers(stem_x_train)\n",
    "stem_x_test = remove_numbers(stem_x_test)\n",
    "lemma_x_train = remove_numbers(lemma_x_train)\n",
    "lemma_x_test = remove_numbers(lemma_x_test)"
   ]
  },
  {
   "cell_type": "code",
   "execution_count": 255,
   "metadata": {},
   "outputs": [],
   "source": [
    "stem_x_train = remove_stopwords(stem_x_train)\n",
    "stem_x_test = remove_stopwords(stem_x_test)\n",
    "lemma_x_train = remove_stopwords(lemma_x_train)\n",
    "lemma_x_test = remove_stopwords(lemma_x_test)"
   ]
  },
  {
   "cell_type": "markdown",
   "metadata": {},
   "source": [
    "## Basic NBC and F1 score"
   ]
  },
  {
   "cell_type": "code",
   "execution_count": 256,
   "metadata": {},
   "outputs": [],
   "source": [
    "class BaselineNBClassifier:\n",
    "    def __init__(self,x_train,y_train,ksmooth=1):\n",
    "        self.x_train = x_train\n",
    "        self.y_train = y_train\n",
    "        self.word_counts, self.vocab, self.neg_count, self.pos_count = self.sum_num_classes()\n",
    "        self.pos_prior, self.neg_prior = self.prior()\n",
    "        self.ksmooth = ksmooth\n",
    "    def token(self,df):\n",
    "        new_df = df.apply(lambda x: re.split(\"\\W+\", x))\n",
    "        return new_df\n",
    "    def token_corpus(self,text):\n",
    "        return re.split(\"\\W+\", text)\n",
    "    def get_word_counts(self,text):\n",
    "        corpus = self.token_corpus(text)\n",
    "        g_word_counts = {}\n",
    "        for word in corpus:\n",
    "            g_word_counts[word] = g_word_counts.get(word, 0.0) + 1.0  # k smoothing\n",
    "        return g_word_counts\n",
    "    def prior(self):\n",
    "        pos_prior = self.y_train[self.y_train=='pos'].count()/self.y_train.count()\n",
    "        neg_prior = self.y_train[self.y_train=='neg'].count()/self.y_train.count()\n",
    "        return pos_prior,neg_prior\n",
    "    def sum_num_classes(self):\n",
    "        word_counts = {'pos':{},'neg':{}}\n",
    "        vocab = set()\n",
    "        for x, y in zip(self.x_train, self.y_train):\n",
    "            counts = self.get_word_counts(x)\n",
    "            for word, count in counts.items():\n",
    "                if word not in vocab:\n",
    "                    vocab.add(word)\n",
    "                if word not in word_counts[y]:\n",
    "                    word_counts[y][word] = 0.0\n",
    "                word_counts[y][word] += count\n",
    "        n = 0\n",
    "        p = 0\n",
    "        for k in word_counts['pos']:\n",
    "            p += word_counts['pos'][k]\n",
    "        for k in word_counts['neg']:\n",
    "            n += word_counts['neg'][k]\n",
    "        \n",
    "        ll = []\n",
    "        for i in word_counts:\n",
    "            for j in word_counts[i]:\n",
    "                ll.append(word_counts[i][j])\n",
    "        return word_counts,vocab,n,p\n",
    "    def predict(self, x_test):\n",
    "        result = []\n",
    "        for text in x_test:\n",
    "            counts = self.get_word_counts(text)\n",
    "            neg_score = 1.0\n",
    "            pos_score = 1.0\n",
    "            for word, _ in counts.items(): # how to deal with unknown words\n",
    "                if word not in self.vocab:\n",
    "                    continue\n",
    "                w_given_pos = (self.word_counts['pos'].get(word, 0.0) + self.ksmooth) / (self.pos_count + self.ksmooth*len(self.vocab))\n",
    "                w_given_neg = (self.word_counts['neg'].get(word, 0.0) + self.ksmooth) / (self.neg_count + self.ksmooth*len(self.vocab))\n",
    "\n",
    "                pos_score *= w_given_pos\n",
    "                neg_score *= w_given_neg\n",
    "\n",
    "            pos_score = self.pos_prior * pos_score\n",
    "            neg_score = self.neg_prior * neg_score\n",
    "\n",
    "            if pos_score > neg_score:\n",
    "                result.append('pos')\n",
    "            elif pos_score < neg_score:\n",
    "                result.append('neg')\n",
    "            elif pos_score == neg_score:\n",
    "                chois = choice(['pos','neg'])\n",
    "                result.append(chois)\n",
    "        return result\n",
    "    def evaluate(self,x_test,y_test):\n",
    "        TP = 0\n",
    "        FP = 0\n",
    "        FN = 0\n",
    "        TN = 0\n",
    "        predict_y = self.predict(x_test)\n",
    "        for i in range(len(predict_y)):\n",
    "            if predict_y[i] == y_test[i]:\n",
    "                if y_test[i] == 'pos':\n",
    "                    TP += 1\n",
    "                elif y_test[i] == 'neg':\n",
    "                    TN += 1\n",
    "            if predict_y[i] != y_test[i]:\n",
    "                if y_test[i] == 'pos':\n",
    "                    FN += 1\n",
    "                elif y_test[i] == 'neg':\n",
    "                    FP += 1\n",
    "        precision = TP/(TP+FP)\n",
    "        recall = TP/(TP+FN)\n",
    "        F1_score = 2*precision*recall/(precision+recall)\n",
    "        return F1_score,precision,recall"
   ]
  },
  {
   "cell_type": "markdown",
   "metadata": {},
   "source": [
    "## Pipeline"
   ]
  },
  {
   "cell_type": "code",
   "execution_count": null,
   "metadata": {},
   "outputs": [],
   "source": [
    "def preprocessing_pipeline(x): # x is x_train and x_test after splitting\n",
    "    new_x = lower(x)\n",
    "    new_x = remove_html(new_x)\n",
    "    new_x = remove_url(new_x)\n",
    "    new_x = remove_accented_chars(new_x)\n",
    "    new_x = remove_stopwords(new_x)\n",
    "    new_x = remove_extra_whitespace_tabs(new_x)\n",
    "    new_x = punctuation1(new_x)\n",
    "    new_x = negation(new_x)\n",
    "    new_x = punctuation(new_x)\n",
    "    return new_x"
   ]
  },
  {
   "cell_type": "markdown",
   "metadata": {},
   "source": [
    "## Evaluate: stem and lemma"
   ]
  },
  {
   "cell_type": "code",
   "execution_count": 42,
   "metadata": {
    "scrolled": true
   },
   "outputs": [
    {
     "name": "stdout",
     "output_type": "stream",
     "text": [
      "F1 score:  0.6946439823566478\n",
      "Precision:  0.7313578062804069\n",
      "Recall:  0.66144\n"
     ]
    }
   ],
   "source": [
    "object = BaselineNBClassifier(stem_x_train,y_train)\n",
    "F1_score,precision,recall = object.evaluate(stem_x_test,y_test)\n",
    "print('F1 score: ',F1_score)\n",
    "print('Precision: ',precision)\n",
    "print('Recall: ',recall)"
   ]
  },
  {
   "cell_type": "code",
   "execution_count": 43,
   "metadata": {},
   "outputs": [
    {
     "name": "stdout",
     "output_type": "stream",
     "text": [
      "F1 score:  0.6994896678658077\n",
      "Precision:  0.733035244608101\n",
      "Recall:  0.66888\n"
     ]
    }
   ],
   "source": [
    "object2 = BaselineNBClassifier(lemma_x_train,y_train)\n",
    "F1_score,precision,recall = object2.evaluate(lemma_x_test,y_test)\n",
    "print('F1 score: ',F1_score)\n",
    "print('Precision: ',precision)\n",
    "print('Recall: ',recall)"
   ]
  },
  {
   "cell_type": "markdown",
   "metadata": {},
   "source": [
    "## Evaluate: unknown words\n",
    "###                           TF-IDF for unknown words"
   ]
  },
  {
   "cell_type": "code",
   "execution_count": 46,
   "metadata": {},
   "outputs": [],
   "source": [
    "def TF_IDF(df):\n",
    "    Tcorpus = [text for text in df]\n",
    "    vectorizer=CountVectorizer()\n",
    "    transformer=TfidfTransformer()\n",
    "    tfidf=transformer.fit_transform(vectorizer.fit_transform(Tcorpus))\n",
    "    words=vectorizer.get_feature_names()\n",
    "    weight=tfidf.toarray()\n",
    "    return words,weight\n",
    "\n",
    "#     useless_words = []\n",
    "#     for i in range(len(words)):\n",
    "#         sum = 0\n",
    "#         for j in range(len(weight)):\n",
    "#             sum += weight[j][i]\n",
    "#         if sum == 0:\n",
    "#             useless_words.append(words[i])\n",
    "#     return useless_words"
   ]
  },
  {
   "cell_type": "code",
   "execution_count": 47,
   "metadata": {},
   "outputs": [],
   "source": [
    "words,weight = TF_IDF(stem_x_train)"
   ]
  },
  {
   "cell_type": "code",
   "execution_count": 159,
   "metadata": {},
   "outputs": [
    {
     "data": {
      "text/plain": [
       "(122243, 25000)"
      ]
     },
     "execution_count": 159,
     "metadata": {},
     "output_type": "execute_result"
    }
   ],
   "source": [
    "len(words),len(weight)"
   ]
  },
  {
   "cell_type": "markdown",
   "metadata": {},
   "source": [
    "##  \\<unk> for unknown words"
   ]
  },
  {
   "cell_type": "code",
   "execution_count": 290,
   "metadata": {},
   "outputs": [],
   "source": [
    "class UnkNBC(BaselineNBClassifier):\n",
    "    def __init__(self,x_train,y_train,ksmooth=1,threshold=1):\n",
    "        self.x_train = x_train\n",
    "        self.y_train = y_train\n",
    "        self.ksmooth = ksmooth\n",
    "        self.threshold = threshold\n",
    "        self.word_counts, self.vocab, self.neg_count, self.pos_count = self.sum_num_classes()\n",
    "        self.pos_prior, self.neg_prior = self.prior()\n",
    "    def sum_num_classes(self):\n",
    "        word_counts = {'pos':{},'neg':{}}\n",
    "        vocab = set()\n",
    "        for x, y in zip(self.x_train, self.y_train):\n",
    "            counts = self.get_word_counts(x)\n",
    "            for word, count in counts.items():\n",
    "                if word not in vocab:\n",
    "                    vocab.add(word)\n",
    "                if word not in word_counts[y]:\n",
    "                    word_counts[y][word] = 0.0\n",
    "                word_counts[y][word] += count\n",
    "        \n",
    "        unk_list = []\n",
    "        new_word_counts = {'pos':{'unk':0.0},'neg':{'unk':0.0}}\n",
    "        new_vocab = set()\n",
    "        new_vocab.add('unk')\n",
    "        for i in word_counts:\n",
    "            for j in word_counts[i]:\n",
    "                if word_counts[i][j] <= self.threshold:\n",
    "                    new_word_counts[i]['unk'] += 1\n",
    "                    new_vocab.add('unk')\n",
    "                else:\n",
    "                    if j not in new_word_counts[i]:\n",
    "                        new_word_counts[i][j] = 0.0\n",
    "                        new_vocab.add(j)\n",
    "                    new_word_counts[i][j] = word_counts[i][j]\n",
    "        n = 0\n",
    "        p = 0\n",
    "        for k in new_word_counts['pos']:\n",
    "            p += new_word_counts['pos'][k]\n",
    "        for k in new_word_counts['neg']:\n",
    "            n += new_word_counts['neg'][k]\n",
    "        '''\n",
    "        -test\n",
    "        '''    \n",
    "#         print(new_word_counts)\n",
    "#         print(new_vocab,len(new_vocab))\n",
    "#         print(n)\n",
    "#         print(p)\n",
    "        \n",
    "        return new_word_counts,new_vocab,n,p\n",
    "    def predict(self, x_test):\n",
    "        result = []\n",
    "        for text in x_test:\n",
    "            counts = self.get_word_counts(text)\n",
    "            neg_score = 1.0\n",
    "            pos_score = 1.0\n",
    "            for word, _ in counts.items(): # how to deal with unknown words\n",
    "                if word not in self.vocab:\n",
    "                    unk_given_pos = (self.word_counts['pos'].get('unk', 0.0) + self.ksmooth) / (self.pos_count + self.ksmooth*len(self.vocab))\n",
    "                    unk_given_neg = (self.word_counts['neg'].get('unk', 0.0) + self.ksmooth) / (self.neg_count + self.ksmooth*len(self.vocab))\n",
    "                    pos_score *= unk_given_pos\n",
    "                    neg_score *= unk_given_neg\n",
    "                else: \n",
    "                    w_given_pos = (self.word_counts['pos'].get(word, 0.0) + self.ksmooth) / (self.pos_count + self.ksmooth*len(self.vocab))\n",
    "                    w_given_neg = (self.word_counts['neg'].get(word, 0.0) + self.ksmooth) / (self.neg_count + self.ksmooth*len(self.vocab))\n",
    "                    pos_score *= w_given_pos\n",
    "                    neg_score *= w_given_neg\n",
    "\n",
    "            pos_score = self.pos_prior * pos_score\n",
    "            neg_score = self.neg_prior * neg_score\n",
    "\n",
    "            if pos_score > neg_score:\n",
    "                result.append('pos')\n",
    "            elif pos_score < neg_score:\n",
    "                result.append('neg')\n",
    "            elif pos_score == neg_score:\n",
    "                chois = choice(['pos','neg'])\n",
    "                result.append(chois)\n",
    "        return result"
   ]
  },
  {
   "cell_type": "code",
   "execution_count": 270,
   "metadata": {},
   "outputs": [
    {
     "name": "stdout",
     "output_type": "stream",
     "text": [
      "F1 score:  0.695801991847712\n",
      "Precision:  0.7328494290519607\n",
      "Recall:  0.66232\n"
     ]
    }
   ],
   "source": [
    "unkobject = UnkNBC(stem_x_train,y_train)\n",
    "F1_score,precision,recall = unkobject.evaluate(stem_x_test,y_test)\n",
    "print('F1 score: ',F1_score)\n",
    "print('Precision: ',precision)\n",
    "print('Recall: ',recall)"
   ]
  },
  {
   "cell_type": "markdown",
   "metadata": {},
   "source": [
    "## Evaluate: smooth\n",
    "### k-smooth"
   ]
  },
  {
   "cell_type": "code",
   "execution_count": 193,
   "metadata": {},
   "outputs": [],
   "source": [
    "ksmooth_list = [0.01,0.1,0.5,1,3,5,7,9,15,20,30,50,100,500,1000,3000,500000]\n",
    "score_list = []\n",
    "for k in ksmooth_list:\n",
    "    new_object = BaselineNBClassifier(stem_x_train,y_train,ksmooth=k)\n",
    "    F1_score,_,_ = new_object.evaluate(stem_x_test,y_test)\n",
    "    score_list.append((F1_score,k))"
   ]
  },
  {
   "cell_type": "code",
   "execution_count": 194,
   "metadata": {},
   "outputs": [
    {
     "data": {
      "text/plain": [
       "[(0.669255117113315, 0.01),\n",
       " (0.6836548653805385, 0.1),\n",
       " (0.6925307889538062, 0.5),\n",
       " (0.6927299392415671, 1),\n",
       " (0.7002326354270522, 3),\n",
       " (0.7056146303115561, 5),\n",
       " (0.699958762886598, 7),\n",
       " (0.7056118888295907, 9),\n",
       " (0.7071093909146466, 15),\n",
       " (0.7045287637698899, 20),\n",
       " (0.7039792947266258, 30),\n",
       " (0.7021164663510178, 50),\n",
       " (0.690346743989368, 100),\n",
       " (0.6654331912155096, 500),\n",
       " (0.6573759896590725, 1000),\n",
       " (0.6389259573779774, 3000),\n",
       " (0.5987434901215177, 500000)]"
      ]
     },
     "execution_count": 194,
     "metadata": {},
     "output_type": "execute_result"
    }
   ],
   "source": [
    "score_list"
   ]
  },
  {
   "cell_type": "code",
   "execution_count": 196,
   "metadata": {},
   "outputs": [
    {
     "data": {
      "text/plain": [
       "([0, 1, 2, 3, 4, 5, 6, 7, 8, 9, 10, 11, 12, 13, 14, 15, 16],\n",
       " [Text(0, 0, ''),\n",
       "  Text(0, 0, ''),\n",
       "  Text(0, 0, ''),\n",
       "  Text(0, 0, ''),\n",
       "  Text(0, 0, ''),\n",
       "  Text(0, 0, ''),\n",
       "  Text(0, 0, ''),\n",
       "  Text(0, 0, ''),\n",
       "  Text(0, 0, ''),\n",
       "  Text(0, 0, ''),\n",
       "  Text(0, 0, ''),\n",
       "  Text(0, 0, ''),\n",
       "  Text(0, 0, ''),\n",
       "  Text(0, 0, ''),\n",
       "  Text(0, 0, ''),\n",
       "  Text(0, 0, ''),\n",
       "  Text(0, 0, '')])"
      ]
     },
     "execution_count": 196,
     "metadata": {},
     "output_type": "execute_result"
    },
    {
     "data": {
      "image/png": "[encoded data removed]",
      "text/plain": [
       "<Figure size 432x288 with 1 Axes>"
      ]
     },
     "metadata": {
      "needs_background": "light"
     },
     "output_type": "display_data"
    }
   ],
   "source": [
    "a = [x[0] for x in score_list]\n",
    "b = [x[1] for x in score_list]\n",
    "plt.plot(['0.01','0.1','0.5','1','3','5','7','9','15','20','30','50',\n",
    "          '100','500','1000','3000','500000'],a)\n",
    "plt.xticks(rotation=45)"
   ]
  },
  {
   "cell_type": "markdown",
   "metadata": {},
   "source": [
    "## Evaluate: \\<unk> thresholds"
   ]
  },
  {
   "cell_type": "code",
   "execution_count": 271,
   "metadata": {},
   "outputs": [],
   "source": [
    "thres_list = [1,2,3,5,10,20,50,100,500,1000,3000,5000]\n",
    "score_list = []\n",
    "for k in thres_list:\n",
    "    new_object = UnkNBC(stem_x_train,y_train,threshold=k)\n",
    "    F1_score,_,_ = new_object.evaluate(stem_x_test,y_test)\n",
    "    score_list.append((F1_score,k))"
   ]
  },
  {
   "cell_type": "code",
   "execution_count": 272,
   "metadata": {},
   "outputs": [
    {
     "data": {
      "text/plain": [
       "[(0.6924861831835633, 1),\n",
       " (0.695359218394677, 2),\n",
       " (0.6950941484421177, 3),\n",
       " (0.6916014385445313, 5),\n",
       " (0.6963244613434727, 10),\n",
       " (0.7005336358670533, 20),\n",
       " (0.7086002396991361, 50),\n",
       " (0.7210502784213306, 100),\n",
       " (0.7443939031202618, 500),\n",
       " (0.7539177657098526, 1000),\n",
       " (0.6737455437574271, 3000),\n",
       " (0.6756356089244682, 5000)]"
      ]
     },
     "execution_count": 272,
     "metadata": {},
     "output_type": "execute_result"
    }
   ],
   "source": [
    "score_list"
   ]
  },
  {
   "cell_type": "code",
   "execution_count": 292,
   "metadata": {},
   "outputs": [
    {
     "data": {
      "text/plain": [
       "{'I',\n",
       " 'absolut',\n",
       " 'act',\n",
       " 'action',\n",
       " 'actual',\n",
       " 'almost',\n",
       " 'also',\n",
       " 'although',\n",
       " 'alway',\n",
       " 'amaz',\n",
       " 'american',\n",
       " 'anim',\n",
       " 'anoth',\n",
       " 'anyon',\n",
       " 'anyth',\n",
       " 'appear',\n",
       " 'around',\n",
       " 'attempt',\n",
       " 'audienc',\n",
       " 'aw',\n",
       " 'away',\n",
       " 'back',\n",
       " 'bad',\n",
       " 'beauti',\n",
       " 'becom',\n",
       " 'begin',\n",
       " 'believ',\n",
       " 'best',\n",
       " 'better',\n",
       " 'big',\n",
       " 'bit',\n",
       " 'book',\n",
       " 'bore',\n",
       " 'boy',\n",
       " 'call',\n",
       " 'cast',\n",
       " 'chang',\n",
       " 'charact',\n",
       " 'classic',\n",
       " 'come',\n",
       " 'comedi',\n",
       " 'complet',\n",
       " 'could',\n",
       " 'cours',\n",
       " 'day',\n",
       " 'definit',\n",
       " 'differ',\n",
       " 'direct',\n",
       " 'director',\n",
       " 'disappoint',\n",
       " 'done',\n",
       " 'dvd',\n",
       " 'effect',\n",
       " 'els',\n",
       " 'emot',\n",
       " 'end',\n",
       " 'enjoy',\n",
       " 'enough',\n",
       " 'entertain',\n",
       " 'entir',\n",
       " 'episod',\n",
       " 'especi',\n",
       " 'even',\n",
       " 'ever',\n",
       " 'everi',\n",
       " 'everyon',\n",
       " 'everyth',\n",
       " 'excel',\n",
       " 'expect',\n",
       " 'face',\n",
       " 'fact',\n",
       " 'fail',\n",
       " 'famili',\n",
       " 'fan',\n",
       " 'far',\n",
       " 'father',\n",
       " 'favorit',\n",
       " 'feel',\n",
       " 'final',\n",
       " 'find',\n",
       " 'first',\n",
       " 'follow',\n",
       " 'found',\n",
       " 'friend',\n",
       " 'fun',\n",
       " 'funni',\n",
       " 'get',\n",
       " 'girl',\n",
       " 'give',\n",
       " 'go',\n",
       " 'goe',\n",
       " 'good',\n",
       " 'got',\n",
       " 'great',\n",
       " 'guy',\n",
       " 'half',\n",
       " 'happen',\n",
       " 'hard',\n",
       " 'head',\n",
       " 'help',\n",
       " 'hope',\n",
       " 'horribl',\n",
       " 'horror',\n",
       " 'hour',\n",
       " 'hous',\n",
       " 'howev',\n",
       " 'human',\n",
       " 'idea',\n",
       " 'includ',\n",
       " 'instead',\n",
       " 'interest',\n",
       " 'job',\n",
       " 'john',\n",
       " 'joke',\n",
       " 'keep',\n",
       " 'kid',\n",
       " 'kill',\n",
       " 'kind',\n",
       " 'know',\n",
       " 'lack',\n",
       " 'last',\n",
       " 'later',\n",
       " 'laugh',\n",
       " 'lead',\n",
       " 'least',\n",
       " 'leav',\n",
       " 'left',\n",
       " 'let',\n",
       " 'life',\n",
       " 'like',\n",
       " 'line',\n",
       " 'littl',\n",
       " 'live',\n",
       " 'long',\n",
       " 'look',\n",
       " 'lot',\n",
       " 'love',\n",
       " 'made',\n",
       " 'main',\n",
       " 'make',\n",
       " 'man',\n",
       " 'mani',\n",
       " 'may',\n",
       " 'mayb',\n",
       " 'mean',\n",
       " 'men',\n",
       " 'might',\n",
       " 'minut',\n",
       " 'moment',\n",
       " 'money',\n",
       " 'move',\n",
       " 'movi',\n",
       " 'much',\n",
       " 'murder',\n",
       " 'music',\n",
       " 'must',\n",
       " 'name',\n",
       " 'need',\n",
       " 'never',\n",
       " 'new',\n",
       " 'nice',\n",
       " 'night',\n",
       " 'no',\n",
       " 'not',\n",
       " 'not_even',\n",
       " 'not_on',\n",
       " 'not_real',\n",
       " 'noth',\n",
       " 'old',\n",
       " 'one',\n",
       " 'origin',\n",
       " 'part',\n",
       " 'peopl',\n",
       " 'perfect',\n",
       " 'perform',\n",
       " 'person',\n",
       " 'pictur',\n",
       " 'place',\n",
       " 'play',\n",
       " 'plot',\n",
       " 'point',\n",
       " 'poor',\n",
       " 'portray',\n",
       " 'power',\n",
       " 'pretti',\n",
       " 'probabl',\n",
       " 'problem',\n",
       " 'product',\n",
       " 'put',\n",
       " 'quit',\n",
       " 'rate',\n",
       " 'rather',\n",
       " 'read',\n",
       " 'real',\n",
       " 'realli',\n",
       " 'reason',\n",
       " 'recommend',\n",
       " 'rememb',\n",
       " 'review',\n",
       " 'right',\n",
       " 'role',\n",
       " 'run',\n",
       " 'said',\n",
       " 'save',\n",
       " 'saw',\n",
       " 'say',\n",
       " 'screen',\n",
       " 'script',\n",
       " 'second',\n",
       " 'see',\n",
       " 'seem',\n",
       " 'seen',\n",
       " 'seri',\n",
       " 'set',\n",
       " 'short',\n",
       " 'shot',\n",
       " 'show',\n",
       " 'simpli',\n",
       " 'sinc',\n",
       " 'someon',\n",
       " 'someth',\n",
       " 'song',\n",
       " 'sound',\n",
       " 'special',\n",
       " 'star',\n",
       " 'start',\n",
       " 'still',\n",
       " 'stori',\n",
       " 'stupid',\n",
       " 'suppos',\n",
       " 'sure',\n",
       " 'surpris',\n",
       " 'take',\n",
       " 'talk',\n",
       " 'tell',\n",
       " 'terribl',\n",
       " 'thi',\n",
       " 'thing',\n",
       " 'think',\n",
       " 'though',\n",
       " 'thought',\n",
       " 'three',\n",
       " 'time',\n",
       " 'togeth',\n",
       " 'total',\n",
       " 'tri',\n",
       " 'true',\n",
       " 'turn',\n",
       " 'tv',\n",
       " 'two',\n",
       " 'unk',\n",
       " 'us',\n",
       " 'use',\n",
       " 'version',\n",
       " 'view',\n",
       " 'viewer',\n",
       " 'want',\n",
       " 'war',\n",
       " 'wast',\n",
       " 'watch',\n",
       " 'way',\n",
       " 'well',\n",
       " 'whole',\n",
       " 'wife',\n",
       " 'without',\n",
       " 'woman',\n",
       " 'wonder',\n",
       " 'work',\n",
       " 'world',\n",
       " 'wors',\n",
       " 'worst',\n",
       " 'worth',\n",
       " 'would',\n",
       " 'write',\n",
       " 'wrong',\n",
       " 'year',\n",
       " 'yet',\n",
       " 'young'}"
      ]
     },
     "execution_count": 292,
     "metadata": {},
     "output_type": "execute_result"
    }
   ],
   "source": [
    "UnkNBC(stem_x_train,y_train,threshold=1000).vocab"
   ]
  },
  {
   "cell_type": "code",
   "execution_count": 291,
   "metadata": {},
   "outputs": [
    {
     "data": {
      "text/plain": [
       "{'abl',\n",
       " 'add',\n",
       " 'age',\n",
       " 'ago',\n",
       " 'allow',\n",
       " 'along',\n",
       " 'alreadi',\n",
       " 'annoy',\n",
       " 'anyway',\n",
       " 'apart',\n",
       " 'appar',\n",
       " 'appreci',\n",
       " 'art',\n",
       " 'ask',\n",
       " 'atmospher',\n",
       " 'avoid',\n",
       " 'badli',\n",
       " 'base',\n",
       " 'basic',\n",
       " 'behind',\n",
       " 'black',\n",
       " 'blood',\n",
       " 'bodi',\n",
       " 'brilliant',\n",
       " 'bring',\n",
       " 'brother',\n",
       " 'budget',\n",
       " 'bunch',\n",
       " 'came',\n",
       " 'camera',\n",
       " 'cannot',\n",
       " 'captur',\n",
       " 'car',\n",
       " 'care',\n",
       " 'career',\n",
       " 'case',\n",
       " 'certainli',\n",
       " 'chanc',\n",
       " 'charm',\n",
       " 'cheap',\n",
       " 'child',\n",
       " 'children',\n",
       " 'cinema',\n",
       " 'cinematographi',\n",
       " 'citi',\n",
       " 'close',\n",
       " 'comic',\n",
       " 'comment',\n",
       " 'confus',\n",
       " 'consid',\n",
       " 'continu',\n",
       " 'countri',\n",
       " 'coupl',\n",
       " 'crap',\n",
       " 'creat',\n",
       " 'credit',\n",
       " 'critic',\n",
       " 'cut',\n",
       " 'danc',\n",
       " 'dark',\n",
       " 'daughter',\n",
       " 'david',\n",
       " 'dead',\n",
       " 'deal',\n",
       " 'death',\n",
       " 'decent',\n",
       " 'decid',\n",
       " 'deliv',\n",
       " 'deserv',\n",
       " 'despit',\n",
       " 'develop',\n",
       " 'dialog',\n",
       " 'dialogu',\n",
       " 'die',\n",
       " 'discov',\n",
       " 'documentari',\n",
       " 'drama',\n",
       " 'dream',\n",
       " 'dull',\n",
       " 'earli',\n",
       " 'edit',\n",
       " 'effort',\n",
       " 'either',\n",
       " 'element',\n",
       " 'etc',\n",
       " 'event',\n",
       " 'evil',\n",
       " 'exampl',\n",
       " 'except',\n",
       " 'experi',\n",
       " 'extrem',\n",
       " 'eye',\n",
       " 'fall',\n",
       " 'fantast',\n",
       " 'featur',\n",
       " 'felt',\n",
       " 'femal',\n",
       " 'fight',\n",
       " 'figur',\n",
       " 'filmmak',\n",
       " 'fine',\n",
       " 'flick',\n",
       " 'forc',\n",
       " 'form',\n",
       " 'full',\n",
       " 'futur',\n",
       " 'game',\n",
       " 'gave',\n",
       " 'gener',\n",
       " 'genr',\n",
       " 'georg',\n",
       " 'given',\n",
       " 'god',\n",
       " 'gore',\n",
       " 'greatest',\n",
       " 'group',\n",
       " 'guess',\n",
       " 'hand',\n",
       " 'happi',\n",
       " 'hate',\n",
       " 'heart',\n",
       " 'hell',\n",
       " 'hero',\n",
       " 'high',\n",
       " 'highli',\n",
       " 'hilari',\n",
       " 'histori',\n",
       " 'hit',\n",
       " 'hold',\n",
       " 'hollywood',\n",
       " 'home',\n",
       " 'huge',\n",
       " 'humor',\n",
       " 'husband',\n",
       " 'imagin',\n",
       " 'import',\n",
       " 'impress',\n",
       " 'incred',\n",
       " 'involv',\n",
       " 'jack',\n",
       " 'jame',\n",
       " 'killer',\n",
       " 'king',\n",
       " 'known',\n",
       " 'ladi',\n",
       " 'lame',\n",
       " 'late',\n",
       " 'learn',\n",
       " 'less',\n",
       " 'level',\n",
       " 'light',\n",
       " 'local',\n",
       " 'lost',\n",
       " 'low',\n",
       " 'major',\n",
       " 'manag',\n",
       " 'marri',\n",
       " 'meet',\n",
       " 'mention',\n",
       " 'mess',\n",
       " 'michael',\n",
       " 'mind',\n",
       " 'miss',\n",
       " 'modern',\n",
       " 'monster',\n",
       " 'mother',\n",
       " 'mr',\n",
       " 'mysteri',\n",
       " 'natur',\n",
       " 'next',\n",
       " 'none',\n",
       " 'not_',\n",
       " 'not_bad',\n",
       " 'not_charact',\n",
       " 'not_film',\n",
       " 'not_get',\n",
       " 'not_go',\n",
       " 'not_good',\n",
       " 'not_it',\n",
       " 'not_lik',\n",
       " 'not_mak',\n",
       " 'not_movi',\n",
       " 'not_much',\n",
       " 'not_se',\n",
       " 'not_tim',\n",
       " 'not_watch',\n",
       " 'novel',\n",
       " 'number',\n",
       " 'obviou',\n",
       " 'obvious',\n",
       " 'offer',\n",
       " 'often',\n",
       " 'oh',\n",
       " 'ok',\n",
       " 'open',\n",
       " 'opinion',\n",
       " 'order',\n",
       " 'oscar',\n",
       " 'overal',\n",
       " 'pace',\n",
       " 'pain',\n",
       " 'particularli',\n",
       " 'past',\n",
       " 'paul',\n",
       " 'perhap',\n",
       " 'peter',\n",
       " 'pick',\n",
       " 'piec',\n",
       " 'pleas',\n",
       " 'polic',\n",
       " 'poorli',\n",
       " 'possibl',\n",
       " 'predict',\n",
       " 'present',\n",
       " 'produc',\n",
       " 'provid',\n",
       " 'qualiti',\n",
       " 'question',\n",
       " 'rare',\n",
       " 'realist',\n",
       " 'realiti',\n",
       " 'realiz',\n",
       " 'recent',\n",
       " 'relationship',\n",
       " 'releas',\n",
       " 'remind',\n",
       " 'rent',\n",
       " 'rest',\n",
       " 'result',\n",
       " 'return',\n",
       " 'richard',\n",
       " 'ridicul',\n",
       " 'robert',\n",
       " 'rock',\n",
       " 'romant',\n",
       " 'sad',\n",
       " 'school',\n",
       " 'score',\n",
       " 'season',\n",
       " 'sens',\n",
       " 'sequel',\n",
       " 'sequenc',\n",
       " 'serious',\n",
       " 'sever',\n",
       " 'sex',\n",
       " 'shoot',\n",
       " 'side',\n",
       " 'silli',\n",
       " 'similar',\n",
       " 'simpl',\n",
       " 'sing',\n",
       " 'sister',\n",
       " 'sit',\n",
       " 'situat',\n",
       " 'slow',\n",
       " 'small',\n",
       " 'sometim',\n",
       " 'somewhat',\n",
       " 'son',\n",
       " 'soon',\n",
       " 'sorri',\n",
       " 'sort',\n",
       " 'speak',\n",
       " 'stand',\n",
       " 'stay',\n",
       " 'stop',\n",
       " 'strang',\n",
       " 'street',\n",
       " 'strong',\n",
       " 'stuff',\n",
       " 'style',\n",
       " 'success',\n",
       " 'suck',\n",
       " 'superb',\n",
       " 'support',\n",
       " 'tale',\n",
       " 'talent',\n",
       " 'team',\n",
       " 'thank',\n",
       " 'theater',\n",
       " 'theme',\n",
       " 'thriller',\n",
       " 'throughout',\n",
       " 'titl',\n",
       " 'today',\n",
       " 'told',\n",
       " 'took',\n",
       " 'top',\n",
       " 'touch',\n",
       " 'town',\n",
       " 'truli',\n",
       " 'twist',\n",
       " 'type',\n",
       " 'understand',\n",
       " 'unfortun',\n",
       " 'usual',\n",
       " 'video',\n",
       " 'visual',\n",
       " 'voic',\n",
       " 'wa',\n",
       " 'wait',\n",
       " 'walk',\n",
       " 'weak',\n",
       " 'went',\n",
       " 'white',\n",
       " 'whose',\n",
       " 'william',\n",
       " 'win',\n",
       " 'wish',\n",
       " 'women',\n",
       " 'word',\n",
       " 'writer',\n",
       " 'written',\n",
       " 'ye',\n",
       " 'zombi'}"
      ]
     },
     "execution_count": 291,
     "metadata": {},
     "output_type": "execute_result"
    }
   ],
   "source": [
    "UnkNBC(stem_x_train,y_train,threshold=500).vocab - UnkNBC(stem_x_train,y_train,threshold=1000).vocab"
   ]
  },
  {
   "cell_type": "code",
   "execution_count": 192,
   "metadata": {},
   "outputs": [
    {
     "data": {
      "text/plain": [
       "[<matplotlib.lines.Line2D at 0x7f92c7088af0>]"
      ]
     },
     "execution_count": 192,
     "metadata": {},
     "output_type": "execute_result"
    },
    {
     "data": {
      "image/png": "[encoded data removed]",
      "text/plain": [
       "<Figure size 432x288 with 1 Axes>"
      ]
     },
     "metadata": {
      "needs_background": "light"
     },
     "output_type": "display_data"
    }
   ],
   "source": [
    "a = [x[0] for x in score_list]\n",
    "b = [x[1] for x in score_list]\n",
    "plt.plot(['1','2','3','5','10','20','50','100','500','1000','3000','5000'],a)"
   ]
  },
  {
   "cell_type": "markdown",
   "metadata": {},
   "source": [
    "## Evaluate: optimizing combinations"
   ]
  },
  {
   "cell_type": "code",
   "execution_count": 293,
   "metadata": {},
   "outputs": [],
   "source": [
    "ksmooth_list = [1,3,5,9,15,30,50]\n",
    "thres_list = [50,100,500,1000]\n",
    "score_list = []\n",
    "for k in ksmooth_list:\n",
    "    for t in thres_list:\n",
    "        new_object = UnkNBC(stem_x_train,y_train,ksmooth=k,threshold=k)\n",
    "        F1_score,_,_ = new_object.evaluate(stem_x_test,y_test)\n",
    "        score_list.append((F1_score,k,t))"
   ]
  },
  {
   "cell_type": "code",
   "execution_count": 294,
   "metadata": {},
   "outputs": [
    {
     "data": {
      "text/plain": [
       "[(0.7324038867765104, 50, 50),\n",
       " (0.729964051596532, 50, 1000),\n",
       " (0.7296, 50, 500),\n",
       " (0.7275031685678073, 50, 100),\n",
       " (0.7231413701180552, 30, 1000),\n",
       " (0.7207512054817697, 30, 500),\n",
       " (0.7207443434129838, 30, 50),\n",
       " (0.7189768698294784, 30, 100),\n",
       " (0.7148716647638378, 15, 500),\n",
       " (0.7133220910623946, 15, 1000)]"
      ]
     },
     "execution_count": 294,
     "metadata": {},
     "output_type": "execute_result"
    }
   ],
   "source": [
    "sorted(score_list,reverse=True)[:10]"
   ]
  },
  {
   "cell_type": "markdown",
   "metadata": {},
   "source": [
    "## Evaluate: Naive bayes classifier without smooth"
   ]
  },
  {
   "cell_type": "code",
   "execution_count": 107,
   "metadata": {},
   "outputs": [],
   "source": [
    "class NosmoothNBClassifier(BaselineNBClassifier):\n",
    "    def prior(self):\n",
    "        log_pos_prior = math.log(self.y_train[self.y_train=='pos'].count()/self.y_train.count())\n",
    "        log_neg_prior = math.log(self.y_train[self.y_train=='neg'].count()/self.y_train.count())\n",
    "        return log_pos_prior,log_neg_prior\n",
    "    def predict(self, x_test):\n",
    "        result = []\n",
    "        for text in x_test:\n",
    "            counts = self.get_word_counts(text)\n",
    "            neg_score = 0.0\n",
    "            pos_score = 0.0\n",
    "            for word, _ in counts.items(): # how to deal with unknown words\n",
    "                if word not in self.vocab:\n",
    "                    continue\n",
    "                w_given_pos = math.log((self.word_counts['pos'].get(word, 0.0)) / (self.pos_count))\n",
    "                w_given_neg = math.log((self.word_counts['neg'].get(word, 0.0)) / (self.neg_count))\n",
    "\n",
    "                pos_score += w_given_pos\n",
    "                neg_score += w_given_neg\n",
    "\n",
    "            pos_score = self.pos_prior + pos_score\n",
    "            neg_score = self.neg_prior + neg_score\n",
    "\n",
    "            if pos_score > neg_score:\n",
    "                result.append('pos')\n",
    "            elif pos_score < neg_score:\n",
    "                result.append('neg')\n",
    "            elif pos_score == neg_score:\n",
    "                chois = choice(['pos','neg'])\n",
    "                result.append(chois)\n",
    "        return result"
   ]
  },
  {
   "cell_type": "code",
   "execution_count": 108,
   "metadata": {
    "scrolled": true
   },
   "outputs": [
    {
     "name": "stdout",
     "output_type": "stream",
     "text": [
      "math domain error because of 0\n"
     ]
    }
   ],
   "source": [
    "nos_object =  NosmoothNBClassifier(stem_x_train,y_train)\n",
    "try:\n",
    "    F1_score,precision,recall = nos_object.evaluate(stem_x_test,y_test)\n",
    "    print('F1 score: ',F1_score)\n",
    "except ValueError:\n",
    "    print('math domain error because of 0')"
   ]
  },
  {
   "cell_type": "markdown",
   "metadata": {},
   "source": [
    "## Evaluate: words-frequency distribution"
   ]
  },
  {
   "cell_type": "code",
   "execution_count": 102,
   "metadata": {},
   "outputs": [],
   "source": [
    "def token_corpus(text):\n",
    "    return re.split(\"\\W+\", text)\n",
    "def get_word_counts(text):\n",
    "    corpus = token_corpus(text)\n",
    "    g_word_counts = {}\n",
    "    for word in corpus:\n",
    "        g_word_counts[word] = g_word_counts.get(word, 0.0) + 1.0  # k smoothing\n",
    "    return g_word_counts\n",
    "def sum_num_classes(stem_x_train,y_train):\n",
    "    word_counts = {'pos':{},'neg':{}}\n",
    "    vocab = set()\n",
    "    for x, y in zip(stem_x_train, y_train):\n",
    "        counts = get_word_counts(x)\n",
    "        for word, count in counts.items():\n",
    "            if word not in vocab:\n",
    "                vocab.add(word)\n",
    "            if word not in word_counts[y]:\n",
    "                word_counts[y][word] = 0.0\n",
    "            word_counts[y][word] += count\n",
    "    n = 0\n",
    "    p = 0\n",
    "    for k in word_counts['pos']:\n",
    "        p += word_counts['pos'][k]\n",
    "    for k in word_counts['neg']:\n",
    "        n += word_counts['neg'][k]\n",
    "\n",
    "    ll = []\n",
    "    for i in word_counts:\n",
    "        for j in word_counts[i]:\n",
    "            ll.append(word_counts[i][j])\n",
    "    return ll"
   ]
  },
  {
   "cell_type": "code",
   "execution_count": 103,
   "metadata": {},
   "outputs": [],
   "source": [
    "ll = sum_num_classes(stem_x_train,y_train)"
   ]
  },
  {
   "cell_type": "code",
   "execution_count": 109,
   "metadata": {},
   "outputs": [
    {
     "name": "stdout",
     "output_type": "stream",
     "text": [
      "124305 9390 13141 3042 2589 697 528 370 54 37\n",
      "1.0\n",
      "77076\n"
     ]
    }
   ],
   "source": [
    "one_five = 0\n",
    "five_ten = 0\n",
    "ten_fif = 0\n",
    "fif_hud = 0\n",
    "hud_hud3 = 0\n",
    "hud3_hud5 = 0\n",
    "hud5_hudd = 0\n",
    "hudd_hudd3 = 0\n",
    "hudd3_hudd5 = 0\n",
    "hudd5 = 0\n",
    "for i in ll:\n",
    "    if i <= 5:\n",
    "        one_five += 1\n",
    "    elif 6 <= i and i <= 10:\n",
    "        five_ten +=1\n",
    "    elif 11 <= i and i <= 50:\n",
    "        ten_fif += 1\n",
    "    elif 51 <= i and i <= 100:\n",
    "        fif_hud += 1\n",
    "    elif 101 <= i and i <= 300:\n",
    "        hud_hud3 += 1\n",
    "    elif 301 <= i and i <= 500:\n",
    "        hud3_hud5 += 1\n",
    "    elif 501 <= i and i <= 1000:\n",
    "        hud5_hudd += 1\n",
    "    elif 1001 <= i and i <= 3000:\n",
    "        hudd_hudd3 += 1\n",
    "    elif 3001 <= i and i <= 5000:\n",
    "        hudd3_hudd5 += 1\n",
    "    elif 5001 <= i:\n",
    "        hudd5 += 1\n",
    "print(one_five,five_ten,ten_fif,fif_hud,hud_hud3,hud3_hud5,hud5_hudd,hudd_hudd3,hudd3_hudd5,hudd5)\n",
    "\n",
    "z = len(ll)//2\n",
    "zhong = (ll[z]+ll[::-1][z])/2\n",
    "print(zhong)\n",
    "print(z)"
   ]
  },
  {
   "cell_type": "code",
   "execution_count": 188,
   "metadata": {},
   "outputs": [],
   "source": [
    "num_list = [one_five,five_ten,ten_fif,fif_hud,hud_hud3,hud3_hud5,hud5_hudd,hudd_hudd3,hudd3_hudd5,hudd5]\n",
    "name_list = ['one_five','five_ten','ten_fif','fif_hud','hud_hud3','hud3_hud5','hud5_hudd',\n",
    "             'hudd_hudd3','hudd3_hudd5','hudd5']"
   ]
  },
  {
   "cell_type": "code",
   "execution_count": 190,
   "metadata": {},
   "outputs": [
    {
     "data": {
      "text/plain": [
       "([0, 1, 2, 3, 4, 5, 6, 7, 8, 9],\n",
       " [Text(0, 0, ''),\n",
       "  Text(0, 0, ''),\n",
       "  Text(0, 0, ''),\n",
       "  Text(0, 0, ''),\n",
       "  Text(0, 0, ''),\n",
       "  Text(0, 0, ''),\n",
       "  Text(0, 0, ''),\n",
       "  Text(0, 0, ''),\n",
       "  Text(0, 0, ''),\n",
       "  Text(0, 0, '')])"
      ]
     },
     "execution_count": 190,
     "metadata": {},
     "output_type": "execute_result"
    },
    {
     "data": {
      "image/png": "[encoded data removed]",
      "text/plain": [
       "<Figure size 432x288 with 1 Axes>"
      ]
     },
     "metadata": {
      "needs_background": "light"
     },
     "output_type": "display_data"
    }
   ],
   "source": [
    "plt.bar(name_list, num_list) \n",
    "plt.xticks(rotation=45) "
   ]
  },
  {
   "cell_type": "markdown",
   "metadata": {},
   "source": [
    "## Evaluate: bigram naive bayes classifier"
   ]
  },
  {
   "cell_type": "code",
   "execution_count": 267,
   "metadata": {},
   "outputs": [],
   "source": [
    "class NgramNBC(BaselineNBClassifier):\n",
    "    def __init__(self,x_train,y_train,ksmooth=1):\n",
    "        self.x_train = x_train\n",
    "        self.y_train = y_train\n",
    "        self.word_counts, self.vocab, self.neg_count, self.pos_count,self.single = self.sum_num_classes()\n",
    "        self.pos_prior, self.neg_prior = self.prior()\n",
    "        self.ksmooth = ksmooth\n",
    "    def token_corpus(self,text):\n",
    "        return text.split()\n",
    "    def get_word_counts(self,text):\n",
    "        corpus = self.token_corpus(text)\n",
    "        g_word_counts = {}\n",
    "        first_word_list = corpus[:-1]\n",
    "        last_word_list = corpus[1:]\n",
    "        for i in range(len(corpus)-1):\n",
    "            new_word = first_word_list[i]+' '+last_word_list[i]\n",
    "            g_word_counts[new_word] = g_word_counts.get(new_word, 0.0) + 1.0  # k smoothing\n",
    "        return g_word_counts\n",
    "    def sum_num_classes(self):\n",
    "        word_counts = {'pos':{},'neg':{}}\n",
    "        vocab = set()\n",
    "        single_vocab = set()\n",
    "        new_x_train = self.x_train.apply(lambda x: '<cls> '+x+' <end>')\n",
    "        for x, y in zip(new_x_train, self.y_train):\n",
    "            counts = self.get_word_counts(x)\n",
    "            for word, count in counts.items():\n",
    "                if word.split()[0] not in single_vocab:\n",
    "                    single_vocab.add(word.split()[0])\n",
    "                if word not in vocab:\n",
    "                    vocab.add(word)\n",
    "                if word not in word_counts[y]:\n",
    "                    word_counts[y][word] = 0.0\n",
    "                word_counts[y][word] += count\n",
    "        n = 0\n",
    "        p = 0\n",
    "        for k in word_counts['pos']:\n",
    "            p += word_counts['pos'][k]\n",
    "        for k in word_counts['neg']:\n",
    "            n += word_counts['neg'][k]\n",
    "        \n",
    "        single_word_counts = {'pos':{},'neg':{}}\n",
    "        for n in single_vocab:\n",
    "            single_word_counts['pos'][n] = 0.0\n",
    "            single_word_counts['neg'][n] = 0.0\n",
    "            \n",
    "            pos_count = 0\n",
    "            for i in word_counts['pos']:\n",
    "                if i.startswith(n):\n",
    "                    pos_count += word_counts['pos'][i]\n",
    "            single_word_counts['pos'][n] += pos_count\n",
    "            \n",
    "            neg_count = 0\n",
    "            for m in word_counts['neg']:\n",
    "                if m.startswith(n):\n",
    "                    neg_count += word_counts['neg'][m]\n",
    "            single_word_counts['neg'][n] += neg_count\n",
    "#         unk_list = []\n",
    "#         new_word_counts = {'pos':{'unk':0.0},'neg':{'unk':0.0}}\n",
    "#         new_vocab = set()\n",
    "#         new_vocab.add('unk')\n",
    "#         for i in word_counts:\n",
    "#             for j in word_counts[i]:\n",
    "#                 if word_counts[i][j] <= self.threshold:\n",
    "#                     new_word_counts[i]['unk'] += 1\n",
    "#                     new_vocab.add('unk')\n",
    "#                 else:\n",
    "#                     if j not in new_word_counts[i]:\n",
    "#                         new_word_counts[i][j] = 0.0\n",
    "#                         new_vocab.add(j)\n",
    "#                     new_word_counts[i][j] = word_counts[i][j]\n",
    "#         return new_word_counts,new_vocab,n,p\n",
    "        return word_counts,vocab,n,p,single_word_counts\n",
    "    def predict(self, x_test):\n",
    "        result = []\n",
    "        new_x_test = x_test.apply(lambda x: '<cls> '+x+' <end>')\n",
    "        average_unk = 0.0\n",
    "        for text in new_x_test:\n",
    "            counts = self.get_word_counts(text)\n",
    "            neg_score = 1.0\n",
    "            pos_score = 1.0\n",
    "            sum_unk = 0.01\n",
    "            for word, _ in counts.items(): # how to deal with unknown words\n",
    "                if word not in self.vocab:\n",
    "#                     unk_given_pos = (self.word_counts['pos'].get('unk', 0.0) + self.ksmooth) / (pos_count + self.ksmooth*len(self.vocab))\n",
    "#                     unk_given_neg = (self.word_counts['neg'].get('unk', 0.0) + self.ksmooth) / (neg_count + self.ksmooth*len(self.vocab))\n",
    "#                     pos_score *= unk_given_pos\n",
    "#                     neg_score *= unk_given_neg\n",
    "                    sum_unk += 1\n",
    "                    continue\n",
    "                else: \n",
    "#                     pos_count = 0\n",
    "#                     for i in self.word_counts['pos']:\n",
    "#                         if i.startswith(first):\n",
    "#                             pos_count += self.word_counts['pos'][i]\n",
    "#                     neg_count = 0\n",
    "#                     for m in self.word_counts['neg']:\n",
    "#                         if m.startswith(first):\n",
    "#                             neg_count += self.word_counts['neg'][m]\n",
    "                    first,second = word.split()\n",
    "                    print(first)\n",
    "                    pos_count = self.single['pos'].get(first)\n",
    "                    neg_count = self.single['neg'].get(first)\n",
    "                    print(pos_count)\n",
    "                    w_given_pos = (self.word_counts['pos'].get(word, 0.0) + self.ksmooth) / (pos_count + self.ksmooth*len(self.vocab))\n",
    "                    w_given_neg = (self.word_counts['neg'].get(word, 0.0) + self.ksmooth) / (neg_count + self.ksmooth*len(self.vocab))\n",
    "                    pos_score *= w_given_pos\n",
    "                    neg_score *= w_given_neg\n",
    "\n",
    "            pos_score = self.pos_prior * pos_score\n",
    "            neg_score = self.neg_prior * neg_score\n",
    "\n",
    "            if pos_score > neg_score:\n",
    "                result.append('pos')\n",
    "            elif pos_score < neg_score:\n",
    "                result.append('neg')\n",
    "            elif pos_score == neg_score:\n",
    "                chois = choice(['pos','neg'])\n",
    "                result.append(chois)\n",
    "            sum_unk = sum_unk/ len(counts)\n",
    "            average_unk += sum_unk\n",
    "        average_unk /= len(new_x_test)\n",
    "        return result,average_unk\n",
    "    def evaluate(self,x_test,y_test):\n",
    "        TP = 0\n",
    "        FP = 0\n",
    "        FN = 0\n",
    "        TN = 0\n",
    "        predict_y,average_unk = self.predict(x_test)\n",
    "        for i in range(len(predict_y)):\n",
    "            if predict_y[i] == y_test[i]:\n",
    "                if y_test[i] == 'pos':\n",
    "                    TP += 1\n",
    "                elif y_test[i] == 'neg':\n",
    "                    TN += 1\n",
    "            if predict_y[i] != y_test[i]:\n",
    "                if y_test[i] == 'pos':\n",
    "                    FN += 1\n",
    "                elif y_test[i] == 'neg':\n",
    "                    FP += 1\n",
    "        precision = TP/(TP+FP)\n",
    "        recall = TP/(TP+FN)\n",
    "        F1_score = 2*precision*recall/(precision+recall)\n",
    "        return F1_score,precision,recall,average_unk"
   ]
  },
  {
   "cell_type": "code",
   "execution_count": 155,
   "metadata": {},
   "outputs": [
    {
     "data": {
      "text/plain": [
       "(0.7663589081965893, 0.7724945135332846, 0.76032, 0.5894724264410482)"
      ]
     },
     "execution_count": 155,
     "metadata": {},
     "output_type": "execute_result"
    }
   ],
   "source": [
    "n_object =  NgramNBC(stem_x_train,y_train)\n",
    "F1_score,precision,recall,average = n_object.evaluate(stem_x_test,y_test)\n",
    "F1_score,precision,recall,average"
   ]
  }
 ],
 "metadata": {
  "kernelspec": {
   "display_name": "Python 3",
   "language": "python",
   "name": "python3"
  },
  "language_info": {
   "codemirror_mode": {
    "name": "ipython",
    "version": 3
   },
   "file_extension": ".py",
   "mimetype": "text/x-python",
   "name": "python",
   "nbconvert_exporter": "python",
   "pygments_lexer": "ipython3",
   "version": "3.8.5"
  }
 },
 "nbformat": 4,
 "nbformat_minor": 4
}
